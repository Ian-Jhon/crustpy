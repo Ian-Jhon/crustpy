{
 "cells": [
  {
   "cell_type": "markdown",
   "metadata": {},
   "source": [
    "## crustpy example\n",
    "\n",
    "An example which uses crustpy to model the MXB 1659 cooling data "
   ]
  },
  {
   "cell_type": "code",
   "execution_count": 1,
   "metadata": {
    "collapsed": true
   },
   "outputs": [],
   "source": [
    "%matplotlib inline\n",
    "import matplotlib.pyplot as plt"
   ]
  },
  {
   "cell_type": "code",
   "execution_count": 2,
   "metadata": {
    "collapsed": true
   },
   "outputs": [],
   "source": [
    "import ns\n",
    "from crust import *\n",
    "import numpy"
   ]
  },
  {
   "cell_type": "code",
   "execution_count": 3,
   "metadata": {
    "collapsed": true
   },
   "outputs": [],
   "source": [
    "# These are the 1659 temperature measurements\n",
    "t0 = 52159.5\n",
    "tobs = numpy.array([52197.8,52563.2,52712.2,52768.9,53560.0,53576.7,54583.8,56113])-t0\n",
    "Teffobs = numpy.array([121,85,77,73,58,54,56,48.8])"
   ]
  },
  {
   "cell_type": "code",
   "execution_count": 4,
   "metadata": {
    "collapsed": false
   },
   "outputs": [
    {
     "name": "stdout",
     "output_type": "stream",
     "text": [
      "M=1.62 R=11.2 g=2.27948 ngrid=30 Tc=3.1e+07 Qimp=6\n"
     ]
    }
   ],
   "source": [
    "# Initialize the crust\n",
    "crust = Crust(mass=1.62,radius=11.2,ngrid=30,Qimp=6.0,Tc=3.1e7)\n",
    "print crust"
   ]
  },
  {
   "cell_type": "code",
   "execution_count": 5,
   "metadata": {
    "collapsed": false
   },
   "outputs": [
    {
     "name": "stdout",
     "output_type": "stream",
     "text": [
      "Evolving in time for 912.5 days at mdot=0.1\n"
     ]
    }
   ],
   "source": [
    "# Set the top temperature and accrete\n",
    "crust.set_top_temperature(4.7e8)\n",
    "t, Teff = crust.evolve(time=2.5*365.0,mdot=0.1)"
   ]
  },
  {
   "cell_type": "code",
   "execution_count": 6,
   "metadata": {
    "collapsed": false
   },
   "outputs": [
    {
     "data": {
      "text/plain": [
       "<matplotlib.text.Text at 0x108b1c690>"
      ]
     },
     "execution_count": 6,
     "metadata": {},
     "output_type": "execute_result"
    },
    {
     "data": {
      "image/png": "[encoded data removed]",
      "text/plain": [
       "<matplotlib.figure.Figure at 0x108b0f450>"
      ]
     },
     "metadata": {},
     "output_type": "display_data"
    }
   ],
   "source": [
    "rho, TT = crust.temperature_profile()\n",
    "plt.xlim([1e8,2e14])\n",
    "plt.loglog(rho,TT)\n",
    "plt.xlabel(r'$\\rho (g/cm^3)$')\n",
    "plt.ylabel(r'$T (K)$')"
   ]
  },
  {
   "cell_type": "code",
   "execution_count": 7,
   "metadata": {
    "collapsed": false
   },
   "outputs": [
    {
     "name": "stdout",
     "output_type": "stream",
     "text": [
      "Evolving in time for 10000 days at mdot=0\n"
     ]
    }
   ],
   "source": [
    "# Now turn off accretion and cool\n",
    "t, Teff = crust.evolve(time=10000,mdot=0.0)"
   ]
  },
  {
   "cell_type": "code",
   "execution_count": 8,
   "metadata": {
    "collapsed": false
   },
   "outputs": [
    {
     "data": {
      "text/plain": [
       "<matplotlib.text.Text at 0x108dd6050>"
      ]
     },
     "execution_count": 8,
     "metadata": {},
     "output_type": "execute_result"
    },
    {
     "data": {
      "image/png": "[encoded data removed]",
      "text/plain": [
       "<matplotlib.figure.Figure at 0x108c7e090>"
      ]
     },
     "metadata": {},
     "output_type": "display_data"
    }
   ],
   "source": [
    "rho, TT = crust.temperature_profile()\n",
    "plt.xlim([1e8,2e14])\n",
    "plt.loglog(rho,TT)\n",
    "plt.xlabel(r'$\\rho (g/cm^3)$')\n",
    "plt.ylabel(r'$T (K)$')"
   ]
  },
  {
   "cell_type": "code",
   "execution_count": 9,
   "metadata": {
    "collapsed": false
   },
   "outputs": [
    {
     "data": {
      "text/plain": [
       "<matplotlib.text.Text at 0x108cdb2d0>"
      ]
     },
     "execution_count": 9,
     "metadata": {},
     "output_type": "execute_result"
    },
    {
     "data": {
      "image/png": "[encoded data removed]",
      "text/plain": [
       "<matplotlib.figure.Figure at 0x108de16d0>"
      ]
     },
     "metadata": {},
     "output_type": "display_data"
    }
   ],
   "source": [
    "plt.plot(t,Teff)\n",
    "ax = plt.subplot(111)\n",
    "plt.plot(tobs,Teffobs,'ro')\n",
    "plt.xlim([10.0,1e4])\n",
    "plt.ylim([50.0,130.0])\n",
    "ax.set_xscale('log')\n",
    "plt.xlabel(r'$t (d)$')\n",
    "plt.ylabel(r'$T_{eff} (eV)$')"
   ]
  },
  {
   "cell_type": "code",
   "execution_count": 10,
   "metadata": {
    "collapsed": false
   },
   "outputs": [
    {
     "data": {
      "text/plain": [
       "<matplotlib.text.Text at 0x108e57990>"
      ]
     },
     "execution_count": 10,
     "metadata": {},
     "output_type": "execute_result"
    },
    {
     "data": {
      "image/png": "[encoded data removed]",
      "text/plain": [
       "<matplotlib.figure.Figure at 0x108ee7c90>"
      ]
     },
     "metadata": {},
     "output_type": "display_data"
    }
   ],
   "source": [
    "K = numpy.array([item.Kcond for item in crust.grid])\n",
    "plt.xlim([1e8,2e14])\n",
    "plt.loglog(rho,K)\n",
    "plt.xlabel(r'$\\rho (g/cm^3)$')\n",
    "plt.ylabel(r'$K (cgs)$')"
   ]
  },
  {
   "cell_type": "code",
   "execution_count": 11,
   "metadata": {
    "collapsed": false
   },
   "outputs": [
    {
     "data": {
      "text/plain": [
       "<matplotlib.text.Text at 0x108f16e90>"
      ]
     },
     "execution_count": 11,
     "metadata": {},
     "output_type": "execute_result"
    },
    {
     "data": {
      "image/png": "[encoded data removed]",
      "text/plain": [
       "<matplotlib.figure.Figure at 0x108e5cd50>"
      ]
     },
     "metadata": {},
     "output_type": "display_data"
    }
   ],
   "source": [
    "cve = numpy.array([item.CV_electrons() for item in crust.grid])\n",
    "cvi = numpy.array([item.CV_ions() for item in crust.grid])\n",
    "cv = numpy.array([item.CV for item in crust.grid])\n",
    "plt.xlim([1e8,2e14])\n",
    "plt.loglog(rho,cvi,'k-')\n",
    "plt.loglog(rho,cve,'k--')\n",
    "plt.loglog(rho,cve+cvi,'k')\n",
    "plt.loglog(rho,cv,'b')\n",
    "plt.xlabel(r'$\\rho (g/cm^3)$')\n",
    "plt.ylabel(r'$C_V (erg/g/K)$')"
   ]
  },
  {
   "cell_type": "code",
   "execution_count": null,
   "metadata": {
    "collapsed": true
   },
   "outputs": [],
   "source": []
  },
  {
   "cell_type": "code",
   "execution_count": null,
   "metadata": {
    "collapsed": true
   },
   "outputs": [],
   "source": []
  },
  {
   "cell_type": "code",
   "execution_count": null,
   "metadata": {
    "collapsed": true
   },
   "outputs": [],
   "source": []
  },
  {
   "cell_type": "code",
   "execution_count": null,
   "metadata": {
    "collapsed": true
   },
   "outputs": [],
   "source": []
  },
  {
   "cell_type": "code",
   "execution_count": null,
   "metadata": {
    "collapsed": true
   },
   "outputs": [],
   "source": []
  }
 ],
 "metadata": {
  "kernelspec": {
   "display_name": "Python 2",
   "language": "python",
   "name": "python2"
  },
  "language_info": {
   "codemirror_mode": {
    "name": "ipython",
    "version": 2
   },
   "file_extension": ".py",
   "mimetype": "text/x-python",
   "name": "python",
   "nbconvert_exporter": "python",
   "pygments_lexer": "ipython2",
   "version": "2.7.6"
  }
 },
 "nbformat": 4,
 "nbformat_minor": 0
}
